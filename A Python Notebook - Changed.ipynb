{
    "cells": [
        {
            "metadata": {},
            "cell_type": "markdown",
            "source": "First Notebook using JFK weather data"
        },
        {
            "metadata": {},
            "cell_type": "code",
            "source": "\nimport types\nimport pandas as pd\nfrom botocore.client import Config\nimport ibm_boto3\n\ndef __iter__(self): return 0\n\n# @hidden_cell\n# The following code accesses a file in your IBM Cloud Object Storage. It includes your credentials.\n# You might want to remove those credentials before you share the notebook.\nclient_9e973405bb5e480dab4533d4d225ee70 = ibm_boto3.client(service_name='s3',\n    ibm_api_key_id='AebcH-F2NlaNoF3LKoV0B7jWvekp8L4OHCQmbaGLnJZv',\n    ibm_auth_endpoint=\"https://iam.cloud.ibm.com/oidc/token\",\n    config=Config(signature_version='oauth'),\n    endpoint_url='https://s3-api.us-geo.objectstorage.service.networklayer.com')\n\nbody = client_9e973405bb5e480dab4533d4d225ee70.get_object(Bucket='firstproject-donotdelete-pr-xkrtn3hgzjyueu',Key='jfk_weather_cleaned.csv')['Body']\n# add missing __iter__ method, so pandas accepts body as file-like object\nif not hasattr(body, \"__iter__\"): body.__iter__ = types.MethodType( __iter__, body )\n\ndf_data_1 = pd.read_csv(body)\ndf_data_1.head()\n",
            "execution_count": 2,
            "outputs": [
                {
                    "output_type": "execute_result",
                    "execution_count": 2,
                    "data": {
                        "text/plain": "                  DATE  HOURLYVISIBILITY  HOURLYDRYBULBTEMPF  \\\n0  2010-01-01 01:00:00               6.0                33.0   \n1  2010-01-01 02:00:00               6.0                33.0   \n2  2010-01-01 03:00:00               5.0                33.0   \n3  2010-01-01 04:00:00               5.0                33.0   \n4  2010-01-01 05:00:00               5.0                33.0   \n\n   HOURLYWETBULBTEMPF  HOURLYDewPointTempF  HOURLYRelativeHumidity  \\\n0                32.0                 31.0                    92.0   \n1                33.0                 32.0                    96.0   \n2                33.0                 32.0                    96.0   \n3                33.0                 32.0                    96.0   \n4                32.0                 31.0                    92.0   \n\n   HOURLYWindSpeed  HOURLYStationPressure  HOURLYSeaLevelPressure  \\\n0              0.0                  29.97                   29.99   \n1              0.0                  29.97                   29.99   \n2              0.0                  29.97                   29.99   \n3              0.0                  29.95                   29.97   \n4              0.0                  29.93                   29.96   \n\n   HOURLYPrecip  HOURLYAltimeterSetting  HOURLYWindDirectionSin  \\\n0          0.01                   29.99                     0.0   \n1          0.02                   29.99                     0.0   \n2          0.00                   29.99                     0.0   \n3          0.00                   29.97                     0.0   \n4          0.00                   29.95                     0.0   \n\n   HOURLYWindDirectionCos  HOURLYPressureTendencyIncr  \\\n0                     1.0                           0   \n1                     1.0                           0   \n2                     1.0                           0   \n3                     1.0                           0   \n4                     1.0                           0   \n\n   HOURLYPressureTendencyDecr  HOURLYPressureTendencyCons  \n0                           1                           0  \n1                           1                           0  \n2                           1                           0  \n3                           1                           0  \n4                           1                           0  ",
                        "text/html": "<div>\n<style scoped>\n    .dataframe tbody tr th:only-of-type {\n        vertical-align: middle;\n    }\n\n    .dataframe tbody tr th {\n        vertical-align: top;\n    }\n\n    .dataframe thead th {\n        text-align: right;\n    }\n</style>\n<table border=\"1\" class=\"dataframe\">\n  <thead>\n    <tr style=\"text-align: right;\">\n      <th></th>\n      <th>DATE</th>\n      <th>HOURLYVISIBILITY</th>\n      <th>HOURLYDRYBULBTEMPF</th>\n      <th>HOURLYWETBULBTEMPF</th>\n      <th>HOURLYDewPointTempF</th>\n      <th>HOURLYRelativeHumidity</th>\n      <th>HOURLYWindSpeed</th>\n      <th>HOURLYStationPressure</th>\n      <th>HOURLYSeaLevelPressure</th>\n      <th>HOURLYPrecip</th>\n      <th>HOURLYAltimeterSetting</th>\n      <th>HOURLYWindDirectionSin</th>\n      <th>HOURLYWindDirectionCos</th>\n      <th>HOURLYPressureTendencyIncr</th>\n      <th>HOURLYPressureTendencyDecr</th>\n      <th>HOURLYPressureTendencyCons</th>\n    </tr>\n  </thead>\n  <tbody>\n    <tr>\n      <th>0</th>\n      <td>2010-01-01 01:00:00</td>\n      <td>6.0</td>\n      <td>33.0</td>\n      <td>32.0</td>\n      <td>31.0</td>\n      <td>92.0</td>\n      <td>0.0</td>\n      <td>29.97</td>\n      <td>29.99</td>\n      <td>0.01</td>\n      <td>29.99</td>\n      <td>0.0</td>\n      <td>1.0</td>\n      <td>0</td>\n      <td>1</td>\n      <td>0</td>\n    </tr>\n    <tr>\n      <th>1</th>\n      <td>2010-01-01 02:00:00</td>\n      <td>6.0</td>\n      <td>33.0</td>\n      <td>33.0</td>\n      <td>32.0</td>\n      <td>96.0</td>\n      <td>0.0</td>\n      <td>29.97</td>\n      <td>29.99</td>\n      <td>0.02</td>\n      <td>29.99</td>\n      <td>0.0</td>\n      <td>1.0</td>\n      <td>0</td>\n      <td>1</td>\n      <td>0</td>\n    </tr>\n    <tr>\n      <th>2</th>\n      <td>2010-01-01 03:00:00</td>\n      <td>5.0</td>\n      <td>33.0</td>\n      <td>33.0</td>\n      <td>32.0</td>\n      <td>96.0</td>\n      <td>0.0</td>\n      <td>29.97</td>\n      <td>29.99</td>\n      <td>0.00</td>\n      <td>29.99</td>\n      <td>0.0</td>\n      <td>1.0</td>\n      <td>0</td>\n      <td>1</td>\n      <td>0</td>\n    </tr>\n    <tr>\n      <th>3</th>\n      <td>2010-01-01 04:00:00</td>\n      <td>5.0</td>\n      <td>33.0</td>\n      <td>33.0</td>\n      <td>32.0</td>\n      <td>96.0</td>\n      <td>0.0</td>\n      <td>29.95</td>\n      <td>29.97</td>\n      <td>0.00</td>\n      <td>29.97</td>\n      <td>0.0</td>\n      <td>1.0</td>\n      <td>0</td>\n      <td>1</td>\n      <td>0</td>\n    </tr>\n    <tr>\n      <th>4</th>\n      <td>2010-01-01 05:00:00</td>\n      <td>5.0</td>\n      <td>33.0</td>\n      <td>32.0</td>\n      <td>31.0</td>\n      <td>92.0</td>\n      <td>0.0</td>\n      <td>29.93</td>\n      <td>29.96</td>\n      <td>0.00</td>\n      <td>29.95</td>\n      <td>0.0</td>\n      <td>1.0</td>\n      <td>0</td>\n      <td>1</td>\n      <td>0</td>\n    </tr>\n  </tbody>\n</table>\n</div>"
                    },
                    "metadata": {}
                }
            ]
        }
    ],
    "metadata": {
        "kernelspec": {
            "name": "python3",
            "display_name": "Python 3.7",
            "language": "python"
        },
        "language_info": {
            "name": "python",
            "version": "3.7.9",
            "mimetype": "text/x-python",
            "codemirror_mode": {
                "name": "ipython",
                "version": 3
            },
            "pygments_lexer": "ipython3",
            "nbconvert_exporter": "python",
            "file_extension": ".py"
        }
    },
    "nbformat": 4,
    "nbformat_minor": 1
}